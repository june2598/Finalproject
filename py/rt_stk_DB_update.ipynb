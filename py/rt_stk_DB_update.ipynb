{
 "cells": [
  {
   "cell_type": "code",
   "execution_count": 1,
   "metadata": {},
   "outputs": [],
   "source": [
    "import FinanceDataReader as fdr\n",
    "import cx_Oracle\n",
    "import pandas as pd"
   ]
  },
  {
   "cell_type": "code",
   "execution_count": 2,
   "metadata": {},
   "outputs": [],
   "source": [
    "def process_market_data(market_type, stock_code_col, price_col, change_col, change_ratio_col, volume_col, amount_col, marcap_col, include_market=True):\n",
    "    \"\"\"\n",
    "    주어진 시장 데이터를 가져와 STOCKS 테이블에서 STK_ID를 조회한 후, RT_STK 테이블에 저장하는 함수\n",
    "\n",
    "    :param market_type: str, 'KOSPI', 'KOSDAQ', 'ETF/KR' 중 하나\n",
    "    :param stock_code_col: str, 종목 코드가 있는 컬럼명 ('Code' 또는 'Symbol')\n",
    "    :param price_col: str, 가격 컬럼명 ('Close', 'Price')\n",
    "    :param change_col: str, 변동 금액 컬럼명 ('Changes', 'Change')\n",
    "    :param change_ratio_col: str, 변동 비율 컬럼명 ('ChagesRatio', 'ChangeRate')\n",
    "    :param volume_col: str, 거래량 컬럼명 ('Volume')\n",
    "    :param amount_col: str, 거래대금 컬럼명 ('Amount')\n",
    "    :param marcap_col: str, 시가총액 컬럼명 ('Marcap', 'MarCap')\n",
    "    :param include_market: bool, 'Market' 컬럼 포함 여부 (ETF는 False)\n",
    "    \"\"\"\n",
    "    \n",
    "    # 1️⃣ 시장 데이터 불러오기\n",
    "    selected_columns = [stock_code_col, 'Name', price_col, change_col, change_ratio_col, volume_col, amount_col, marcap_col]\n",
    "    if include_market:\n",
    "        selected_columns.insert(2, 'Market')  # KOSPI, KOSDAQ 데이터에만 Market 포함\n",
    "\n",
    "    market_list = fdr.StockListing(market_type)[selected_columns]\n",
    "\n",
    "    # 2️⃣ 결측값(NaN) 처리 및 숫자형 변환 (오류 방지)\n",
    "    numeric_cols = [price_col, change_col, change_ratio_col, volume_col, amount_col, marcap_col]\n",
    "    for col in numeric_cols:\n",
    "        market_list[col] = pd.to_numeric(market_list[col], errors='coerce').fillna(0).astype(float)\n",
    "\n",
    "    # 3️⃣ 데이터베이스 연결\n",
    "    dsn = cx_Oracle.makedsn('localhost', 1521, service_name='xe')\n",
    "    with cx_Oracle.connect(user='c##PROJECT', password='k5002', dsn=dsn) as connection:\n",
    "        with connection.cursor() as cursor:\n",
    "\n",
    "            stock_id_mapping = {}\n",
    "\n",
    "            # 4️⃣ STOCKS 테이블에서 STK_ID 가져오기\n",
    "            missing_codes = []\n",
    "            for code in market_list[stock_code_col].unique():\n",
    "                cursor.execute(\"SELECT STK_ID FROM STOCKS WHERE STK_CODE = :code\", {'code': code})\n",
    "                result = cursor.fetchone()\n",
    "                if result:\n",
    "                    stock_id_mapping[code] = result[0]\n",
    "                else:\n",
    "                    missing_codes.append(code)  # STOCKS 테이블에 없는 코드 저장\n",
    "\n",
    "            # STOCKS에 없는 종목 출력\n",
    "            if missing_codes:\n",
    "                print(f\"⚠️ STOCKS 테이블에 없는 종목 코드: {missing_codes}\")\n",
    "\n",
    "            # 5️⃣ STK_ID 매핑\n",
    "            market_list['STK_ID'] = market_list[stock_code_col].map(stock_id_mapping)\n",
    "\n",
    "            # 6️⃣ STK_ID가 없는 데이터 제외 (오류 방지)\n",
    "            market_list = market_list.dropna(subset=['STK_ID'])\n",
    "\n",
    "            # 7️⃣ RT_STK 테이블에 데이터 저장\n",
    "            for index, row in market_list.iterrows():\n",
    "                try:\n",
    "                    cursor.execute(\"\"\"\n",
    "                        INSERT INTO RT_STK (RT_STK_ID, STK_ID, PRICE, CHANGE, CHANGE_RATIO, AMOUNT, VOLUME, MARCAP)\n",
    "                        VALUES (RT_STK_SEQ.NEXTVAL, :stk_id, :price, :change, :change_ratio, :amount, :volume, :marcap)\n",
    "                    \"\"\", {\n",
    "                        'stk_id': row['STK_ID'],\n",
    "                        'price': row[price_col],\n",
    "                        'change': row[change_col],\n",
    "                        'change_ratio': row[change_ratio_col],\n",
    "                        'amount': row[amount_col],\n",
    "                        'volume': row[volume_col], \n",
    "                        'marcap': row[marcap_col]\n",
    "                    })\n",
    "                except cx_Oracle.DatabaseError as e:\n",
    "                    error, = e.args\n",
    "                    print(f\"Error occurred while inserting row {index}: {error.message}\")\n",
    "\n",
    "            # 8️⃣ 변경사항 커밋\n",
    "            connection.commit()"
   ]
  },
  {
   "cell_type": "code",
   "execution_count": 3,
   "metadata": {},
   "outputs": [],
   "source": [
    "process_market_data('KOSPI', 'Code', 'Close', 'Changes', 'ChagesRatio', 'Volume', 'Amount', 'Marcap', include_market=True)\n",
    "process_market_data('KOSDAQ', 'Code', 'Close', 'Changes', 'ChagesRatio', 'Volume', 'Amount', 'Marcap', include_market=True)\n",
    "process_market_data('ETF/KR', 'Symbol', 'Price', 'Change', 'ChangeRate', 'Volume', 'Amount', 'MarCap', include_market=False)"
   ]
  },
  {
   "cell_type": "code",
   "execution_count": null,
   "metadata": {},
   "outputs": [],
   "source": []
  }
 ],
 "metadata": {
  "kernelspec": {
   "display_name": "base",
   "language": "python",
   "name": "python3"
  },
  "language_info": {
   "codemirror_mode": {
    "name": "ipython",
    "version": 3
   },
   "file_extension": ".py",
   "mimetype": "text/x-python",
   "name": "python",
   "nbconvert_exporter": "python",
   "pygments_lexer": "ipython3",
   "version": "3.12.7"
  }
 },
 "nbformat": 4,
 "nbformat_minor": 2
}
