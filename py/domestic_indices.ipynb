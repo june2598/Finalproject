{
 "cells": [
  {
   "cell_type": "code",
   "execution_count": 18,
   "metadata": {},
   "outputs": [],
   "source": [
    "import FinanceDataReader as fdr\n",
    "import cx_Oracle\n",
    "import pandas as pd\n",
    "from datetime import datetime"
   ]
  },
  {
   "cell_type": "code",
   "execution_count": 19,
   "metadata": {},
   "outputs": [],
   "source": [
    "# 오늘 날짜 가져오기\n",
    "today = datetime.now().strftime('%Y-%m-%d')"
   ]
  },
  {
   "cell_type": "code",
   "execution_count": 20,
   "metadata": {},
   "outputs": [],
   "source": [
    "today_kospi_indices = fdr.DataReader('KS11', today)[['Close','Comp','Change']]\n",
    "today_kosdaq_indices = fdr.DataReader('KQ11',today)[['Close','Comp','Change']]"
   ]
  },
  {
   "cell_type": "code",
   "execution_count": 21,
   "metadata": {},
   "outputs": [],
   "source": [
    "# 데이터베이스 연결\n",
    "dsn = cx_Oracle.makedsn('localhost', 1521, service_name='xe')\n",
    "connection = cx_Oracle.connect(user='c##PROJECT', password='k5002', dsn=dsn)\n",
    "cursor = connection.cursor()\n",
    " "
   ]
  },
  {
   "cell_type": "code",
   "execution_count": 22,
   "metadata": {},
   "outputs": [],
   "source": [
    "# KOSPI 데이터 삽입\n",
    "for index, row in today_kospi_indices.iterrows():\n",
    "    change_ratio = round(row['Change'] * 100, 2)  # Change를 100배하고 소수점 둘째 자리까지 반올림\n",
    "    cursor.execute(\"\"\"\n",
    "        INSERT INTO DOMESTIC_INDICES (DOMESTIC_INDICES_ID, MARKET_ID, INDEX_VALUE, INDEX_COMP, CHANGE_RATIO, CDATE)\n",
    "        VALUES (DOMESTIC_INDICES_SEQ.NEXTVAL, :market_id, :index_value, :index_comp, :change_ratio, :cdate)\n",
    "    \"\"\", {\n",
    "        'market_id': 1,\n",
    "        'index_value': row['Close'],\n",
    "        'index_comp': row['Comp'],\n",
    "        'change_ratio': change_ratio,\n",
    "        'cdate': index\n",
    "    })\n",
    "\n",
    "# KOSDAQ 데이터 삽입\n",
    "for index, row in today_kosdaq_indices.iterrows():\n",
    "    change_ratio = round(row['Change'] * 100, 2)  # Change를 100배하고 소수점 둘째 자리까지 반올림\n",
    "    cursor.execute(\"\"\"\n",
    "        INSERT INTO DOMESTIC_INDICES (DOMESTIC_INDICES_ID, MARKET_ID, INDEX_VALUE, INDEX_COMP, CHANGE_RATIO, CDATE)\n",
    "        VALUES (DOMESTIC_INDICES_SEQ.NEXTVAL, :market_id, :index_value, :index_comp, :change_ratio, :cdate)\n",
    "    \"\"\", {\n",
    "        'market_id': 2,\n",
    "        'index_value': row['Close'],\n",
    "        'index_comp': row['Comp'],\n",
    "        'change_ratio': change_ratio,\n",
    "        'cdate': index\n",
    "    })\n"
   ]
  },
  {
   "cell_type": "code",
   "execution_count": 23,
   "metadata": {},
   "outputs": [],
   "source": [
    "# 변경 사항 커밋 및 연결 종료\n",
    "connection.commit()\n",
    "cursor.close()\n",
    "connection.close()"
   ]
  },
  {
   "cell_type": "code",
   "execution_count": 16,
   "metadata": {},
   "outputs": [
    {
     "data": {
      "text/html": [
       "<div>\n",
       "<style scoped>\n",
       "    .dataframe tbody tr th:only-of-type {\n",
       "        vertical-align: middle;\n",
       "    }\n",
       "\n",
       "    .dataframe tbody tr th {\n",
       "        vertical-align: top;\n",
       "    }\n",
       "\n",
       "    .dataframe thead th {\n",
       "        text-align: right;\n",
       "    }\n",
       "</style>\n",
       "<table border=\"1\" class=\"dataframe\">\n",
       "  <thead>\n",
       "    <tr style=\"text-align: right;\">\n",
       "      <th></th>\n",
       "      <th>Open</th>\n",
       "      <th>High</th>\n",
       "      <th>Low</th>\n",
       "      <th>Close</th>\n",
       "      <th>Volume</th>\n",
       "      <th>Change</th>\n",
       "      <th>UpDown</th>\n",
       "      <th>Comp</th>\n",
       "      <th>Amount</th>\n",
       "      <th>MarCap</th>\n",
       "    </tr>\n",
       "    <tr>\n",
       "      <th>Date</th>\n",
       "      <th></th>\n",
       "      <th></th>\n",
       "      <th></th>\n",
       "      <th></th>\n",
       "      <th></th>\n",
       "      <th></th>\n",
       "      <th></th>\n",
       "      <th></th>\n",
       "      <th></th>\n",
       "      <th></th>\n",
       "    </tr>\n",
       "  </thead>\n",
       "  <tbody>\n",
       "    <tr>\n",
       "      <th>2025-02-21</th>\n",
       "      <td>2653.76</td>\n",
       "      <td>2653.76</td>\n",
       "      <td>2638.44</td>\n",
       "      <td>2643.36</td>\n",
       "      <td>205875604</td>\n",
       "      <td>-0.004</td>\n",
       "      <td>2</td>\n",
       "      <td>-10.7</td>\n",
       "      <td>4811846772210</td>\n",
       "      <td>2166566332896726</td>\n",
       "    </tr>\n",
       "  </tbody>\n",
       "</table>\n",
       "</div>"
      ],
      "text/plain": [
       "               Open     High      Low    Close     Volume  Change  UpDown  \\\n",
       "Date                                                                        \n",
       "2025-02-21  2653.76  2653.76  2638.44  2643.36  205875604  -0.004       2   \n",
       "\n",
       "            Comp         Amount            MarCap  \n",
       "Date                                               \n",
       "2025-02-21 -10.7  4811846772210  2166566332896726  "
      ]
     },
     "execution_count": 16,
     "metadata": {},
     "output_type": "execute_result"
    }
   ],
   "source": [
    "fdr.DataReader('KS11', today)"
   ]
  },
  {
   "cell_type": "code",
   "execution_count": 17,
   "metadata": {},
   "outputs": [
    {
     "data": {
      "text/html": [
       "<div>\n",
       "<style scoped>\n",
       "    .dataframe tbody tr th:only-of-type {\n",
       "        vertical-align: middle;\n",
       "    }\n",
       "\n",
       "    .dataframe tbody tr th {\n",
       "        vertical-align: top;\n",
       "    }\n",
       "\n",
       "    .dataframe thead th {\n",
       "        text-align: right;\n",
       "    }\n",
       "</style>\n",
       "<table border=\"1\" class=\"dataframe\">\n",
       "  <thead>\n",
       "    <tr style=\"text-align: right;\">\n",
       "      <th></th>\n",
       "      <th>Open</th>\n",
       "      <th>High</th>\n",
       "      <th>Low</th>\n",
       "      <th>Close</th>\n",
       "      <th>Volume</th>\n",
       "      <th>Change</th>\n",
       "      <th>UpDown</th>\n",
       "      <th>Comp</th>\n",
       "      <th>Amount</th>\n",
       "      <th>MarCap</th>\n",
       "    </tr>\n",
       "    <tr>\n",
       "      <th>Date</th>\n",
       "      <th></th>\n",
       "      <th></th>\n",
       "      <th></th>\n",
       "      <th></th>\n",
       "      <th></th>\n",
       "      <th></th>\n",
       "      <th></th>\n",
       "      <th></th>\n",
       "      <th></th>\n",
       "      <th></th>\n",
       "    </tr>\n",
       "  </thead>\n",
       "  <tbody>\n",
       "    <tr>\n",
       "      <th>2025-02-21</th>\n",
       "      <td>768.39</td>\n",
       "      <td>773.43</td>\n",
       "      <td>767.18</td>\n",
       "      <td>772.38</td>\n",
       "      <td>348886746</td>\n",
       "      <td>0.0053</td>\n",
       "      <td>1</td>\n",
       "      <td>4.11</td>\n",
       "      <td>3120699038494</td>\n",
       "      <td>391672713983314</td>\n",
       "    </tr>\n",
       "  </tbody>\n",
       "</table>\n",
       "</div>"
      ],
      "text/plain": [
       "              Open    High     Low   Close     Volume  Change  UpDown  Comp  \\\n",
       "Date                                                                          \n",
       "2025-02-21  768.39  773.43  767.18  772.38  348886746  0.0053       1  4.11   \n",
       "\n",
       "                   Amount           MarCap  \n",
       "Date                                        \n",
       "2025-02-21  3120699038494  391672713983314  "
      ]
     },
     "execution_count": 17,
     "metadata": {},
     "output_type": "execute_result"
    }
   ],
   "source": [
    "fdr.DataReader('KQ11', today)"
   ]
  },
  {
   "cell_type": "code",
   "execution_count": null,
   "metadata": {},
   "outputs": [],
   "source": [
    "2643.36 2654.06 "
   ]
  }
 ],
 "metadata": {
  "kernelspec": {
   "display_name": "base",
   "language": "python",
   "name": "python3"
  },
  "language_info": {
   "codemirror_mode": {
    "name": "ipython",
    "version": 3
   },
   "file_extension": ".py",
   "mimetype": "text/x-python",
   "name": "python",
   "nbconvert_exporter": "python",
   "pygments_lexer": "ipython3",
   "version": "3.12.7"
  }
 },
 "nbformat": 4,
 "nbformat_minor": 2
}
